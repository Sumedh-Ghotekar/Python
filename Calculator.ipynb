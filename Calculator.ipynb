{
  "nbformat": 4,
  "nbformat_minor": 0,
  "metadata": {
    "colab": {
      "name": "Calculator.ipynb",
      "provenance": [],
      "collapsed_sections": []
    },
    "kernelspec": {
      "name": "python3",
      "display_name": "Python 3"
    },
    "language_info": {
      "name": "python"
    }
  },
  "cells": [
    {
      "cell_type": "code",
      "source": [
        "def add(a,b):\n",
        "    return(a+b)\n",
        "def mul(a,b):\n",
        "    return(a*b)\n",
        "def sub(a,b):\n",
        "    return(a-b)\n",
        "def div(a,b):\n",
        "    return(a/b)\n",
        "print(\"Select operation.\")\n",
        "print(\"1.Add\")4\n",
        "print(\"2.Subtract\")\n",
        "print(\"3.Multiply\")\n",
        "print(\"4.Divide\")\n",
        "while True:\n",
        "  choice = input(\"Enter choice(1/2/3/4): \")\n",
        "\n",
        "  if choice in ('1', '2', '3', '4'):\n",
        "        num1 = float(input(\"Enter first number: \"))\n",
        "        num2 = float(input(\"Enter second number: \"))\n",
        "\n",
        "        if choice == '1':\n",
        "            print(num1, \"+\", num2, \"=\", add(num1, num2))\n",
        "\n",
        "        elif choice == '2':\n",
        "            print(num1, \"-\", num2, \"=\", sub(num1, num2))\n",
        "\n",
        "        elif choice == '3':\n",
        "            print(num1, \"*\", num2, \"=\", mul(num1, num2))\n",
        "\n",
        "        elif choice == '4':\n",
        "            print(num1, \"/\", num2, \"=\", div(num1, num2))\n",
        "        \n",
        "        # check if user wants another calculation\n",
        "        # break the while loop if answer is no\n",
        "        next_calculation = input(\"Let's do next calculation? (y for yes/n for no): \")\n",
        "        if next_calculation == \"n\":\n",
        "          break\n",
        "    \n",
        "else:\n",
        "  print(\"Invalid Input\")"
      ],
      "metadata": {
        "colab": {
          "base_uri": "https://localhost:8080/"
        },
        "id": "22EtoeA9oiSL",
        "outputId": "d8d3a873-9f8b-4c14-f92b-00025a740e9e"
      },
      "execution_count": 26,
      "outputs": [
        {
          "name": "stdout",
          "output_type": "stream",
          "text": [
            "Select operation.\n",
            "1.Add\n",
            "2.Subtract\n",
            "3.Multiply\n",
            "4.Divide\n",
            "Enter choice(1/2/3/4): 1\n",
            "Enter first number: 5\n",
            "Enter second number: 6\n",
            "5.0 + 6.0 = 11.0\n",
            "Let's do next calculation? (y for yes/n for no): y\n",
            "Enter choice(1/2/3/4): 2\n",
            "Enter first number: 6\n",
            "Enter second number: 4\n",
            "6.0 - 4.0 = 2.0\n",
            "Let's do next calculation? (y for yes/n for no): y\n",
            "Enter choice(1/2/3/4): 3\n",
            "Enter first number: 2.5\n",
            "Enter second number: 20\n",
            "2.5 * 20.0 = 50.0\n",
            "Let's do next calculation? (y for yes/n for no): y\n",
            "Enter choice(1/2/3/4): 4\n",
            "Enter first number: 91\n",
            "Enter second number: 9\n",
            "91.0 / 9.0 = 10.11111111111111\n",
            "Let's do next calculation? (y for yes/n for no): n\n"
          ]
        }
      ]
    }
  ]
}