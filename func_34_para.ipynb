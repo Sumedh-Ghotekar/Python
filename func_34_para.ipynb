{
  "nbformat": 4,
  "nbformat_minor": 0,
  "metadata": {
    "colab": {
      "name": "func_34_para.ipynb",
      "provenance": [],
      "collapsed_sections": []
    },
    "kernelspec": {
      "name": "python3",
      "display_name": "Python 3"
    },
    "language_info": {
      "name": "python"
    }
  },
  "cells": [
    {
      "cell_type": "code",
      "execution_count": 3,
      "metadata": {
        "colab": {
          "base_uri": "https://localhost:8080/"
        },
        "id": "Fl1BxWN5ucqp",
        "outputId": "48ecbfe1-0204-4bc8-f3ad-af41a9ef290a"
      },
      "outputs": [
        {
          "output_type": "stream",
          "name": "stdout",
          "text": [
            "Enter the name of a student:naman\n",
            "Enter the roll no. of a student:211\n",
            "Enter the section of a student:B\n",
            "Enter the semester:5\n",
            "['naman', '211', 'B', '5']\n"
          ]
        }
      ],
      "source": [
        "def student(name,rollno,section,semester):\n",
        "  s=[name,rollno,section,semester]\n",
        "  print(s)\n",
        "n=input(\"Enter the name of a student:\")\n",
        "rn=input(\"Enter the roll no. of a student:\")\n",
        "sec=input(\"Enter the section of a student:\")\n",
        "sem=input(\"Enter the semester:\")\n",
        "student(n,rn,sec,sem)"
      ]
    }
  ]
}